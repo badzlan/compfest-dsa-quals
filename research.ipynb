{
  "nbformat": 4,
  "nbformat_minor": 0,
  "metadata": {
    "colab": {
      "provenance": [],
      "toc_visible": true,
      "collapsed_sections": [
        "SZmsGXgx1gNZ",
        "Pue79W141rSL",
        "CMQuBXCu2EBH",
        "97NUHUPr4Sns",
        "guoLrovPARXx",
        "yTs62_uVDUVZ"
      ]
    },
    "kernelspec": {
      "name": "python3",
      "display_name": "Python 3"
    },
    "language_info": {
      "name": "python"
    }
  },
  "cells": [
    {
      "cell_type": "markdown",
      "source": [
        "# Soal Seleksi Data Science Academy Compfest 17"
      ],
      "metadata": {
        "id": "1-9Y4YvLhP0w"
      }
    },
    {
      "cell_type": "markdown",
      "source": [
        "## Soal nomor 1"
      ],
      "metadata": {
        "id": "r-8N_Z1ZjGSL"
      }
    },
    {
      "cell_type": "markdown",
      "source": [
        "1. Dalam konteks bisnis energi dan kebijakan publik, apakah memprediksi konsumsi listrik harian merupakan hal yang mendesak? Jelaskan urgensinya dari perspektif grid management dan perencanaan kapasitas!"
      ],
      "metadata": {
        "id": "ic8UrBs6jGSM"
      }
    },
    {
      "cell_type": "markdown",
      "source": [
        "### 1.1 Urgensi dari Segi Grid Management"
      ],
      "metadata": {
        "id": "jJIJj6H3hc0h"
      }
    },
    {
      "cell_type": "markdown",
      "source": [
        "#### 1.1.1 Menjaga Stabilitas & Keandalan Jaringan"
      ],
      "metadata": {
        "id": "iYhfMfqwhvlz"
      }
    },
    {
      "cell_type": "markdown",
      "source": [
        "**a. Keseimbangan Supply-Demand**\n",
        "\n",
        "Sistem kelistrikan harus itu harus selalu seimbang antara *pasokan* (produksi listrik) dan *permintaan* (konsumsi). Kalau tidak seimbang, akan terjadi *blackout* (pemadanam listrik total) atau *brownout* (tegangan listrik turun) dan akan merugikan baik operator grid maupun konsumen.\n",
        "\n",
        "**b. Prediksi Akurat Menghasilkan Keseimbangan Optimal**\n",
        "\n",
        "Dengan prediksi konsumsi listrikharian yang akurat, operator grid bisa mengatur produksi listrik agar sesuai dengan kebutuhan. Mereka bisa memutuskan berapa banyak pembangkit listrik yang harus dihidupkan atau dimatikan. Ini menghindari kekurangan pasokan atau kelebihan pasokan yang bisa merusak peralatan atau menyebabkan pemadaman."
      ],
      "metadata": {
        "id": "Xt8uyq74iMb0"
      }
    },
    {
      "cell_type": "markdown",
      "source": [
        "#### 1.1.2 Optimalisasi Operasional dan Biaya"
      ],
      "metadata": {
        "id": "YHTSb1cjkU0B"
      }
    },
    {
      "cell_type": "markdown",
      "source": [
        "**a. Menurunkan Biaya Operasional**\n",
        "\n",
        "Pemabgnkit listrik memiliki biaya operasional yang berbeda-beda. Beberapa pembangkit mahal apabila dinyala-matikan sering, namun ada juga yang fleksibel. Dengan menggunakan prediksi yang baik, operator bisa merencanakan kapan menghidupkan pembangkit yang lebih mahal (peaker plants) hanya saat benar-benar dibutuhkan, sehingga biaya operasional keseluruhan bisa ditekan\n",
        "\n",
        "**b. Mengurangi Pemborosan**\n",
        "\n",
        "Apabila produksi lebih banyak daripada konsumsi, akan menyebabkan pemborosan energi dan sumber daya. Prediksi yang tepat dapat menjadi solusi untuk mengurangi pemborosan ini."
      ],
      "metadata": {
        "id": "z0BdZNYUkZcZ"
      }
    },
    {
      "cell_type": "markdown",
      "source": [
        "### 1.2 Urgensi dari Perspektif Perencanaan Kapasitas (Capacity Planning)"
      ],
      "metadata": {
        "id": "oVLzWD_rlboL"
      }
    },
    {
      "cell_type": "markdown",
      "source": [
        "#### 1.2.1 Pembangunan Infrastruktur yang Tepat"
      ],
      "metadata": {
        "id": "PuG4Ppf7ll09"
      }
    },
    {
      "cell_type": "markdown",
      "source": [
        "**a. Mencegah Kekurangan dan kelebihan Kapasitas**\n",
        "\n",
        "Prediksi konsumsi listrik, terutama untuk jangka menengan dan panjang membantu pemerintah dan perusahaan energi merencanakan pembangunan pembangkit listri baruk, jaringan transmisi, dan gardu induk. Jika prediksi salah, bisa jadi akan terjadi kekurangan listrik di masa depan, atau malah membangun infrastruktur yang telralu besar dan tidak terpakai (investasi sia-sia).\n",
        "\n",
        "**b. Pembangunan Berkelanjutan**\n",
        "\n",
        "Dengan tren konsumsi dan juga transisi ke energi terbarukan, perencanaan kapasitas yang didasari prediksi akurat akan menjadi krusial. Misalnya, berapa banyak kapasitas tenaga surya atau angin yang perlu dibangun untuk memenuhi kebutuhan di masa depan."
      ],
      "metadata": {
        "id": "zKxr0TURl1Sz"
      }
    },
    {
      "cell_type": "markdown",
      "source": [
        "#### 1.2.2 Kebijakan Energi yang Strategis"
      ],
      "metadata": {
        "id": "B-Qy0Yu3l0-V"
      }
    },
    {
      "cell_type": "markdown",
      "source": [
        "**a. Regulasi dan Insentif**\n",
        "\n",
        "Pemerintah dapat merumuskan kebijakan yang lebih efektif, misalnya insentif untuk efisiensi energi atau pengembangan teknologi tertentu, jika mereka punya data prediksi konsumsi yang akurat. Ini mendukung ketahanan energi nasional.\n",
        "\n",
        "**b. Manajemen Beban Puncak (Peak Load Management)**\n",
        "\n",
        "Prediksi juga bisa membantu mengidentifikasi kapan dan di mana *peak load* (beban puncak) terjadi. Informasi ini penting untuk merancang program manajemen permintaan (*demand-side management*), misalnya memberikan harga listrik yang lebih mahal di jam-jam sibuk untuk mendorong konsumen menggeser pemakaian listrik ke jam sepi, sehingga beban grid tidak terlalu tinggi."
      ],
      "metadata": {
        "id": "elS28JtwnHVd"
      }
    },
    {
      "cell_type": "markdown",
      "source": [
        "## Soal nomor 2"
      ],
      "metadata": {
        "id": "ufCQmzXCjIey"
      }
    },
    {
      "cell_type": "markdown",
      "source": [
        "2. Apakah model prediksi konsumsi listrik Anda mengalami overfit atau underfit? Jika iya, Tunjukkan buktinya melalui metrik atau visualisasi, dan jelaskan langkah mitigasi yang diambil! Jika tidak, jelaskan alasannya!"
      ],
      "metadata": {
        "id": "Yc6c5vCUjIez"
      }
    },
    {
      "cell_type": "markdown",
      "source": [
        "Model kami terdiri dari dua tahapan utama: model baseline menggunakan Ridge Regression dan model utama menggunakan LightGBM Regressor dengan hyperparameter tuning."
      ],
      "metadata": {
        "id": "vRQ57RMhgc-Z"
      }
    },
    {
      "cell_type": "markdown",
      "source": [
        "### 2.1 Analisis Overfitting dan Underfitting pada Ridge Regression"
      ],
      "metadata": {
        "id": "6H2WhAOegeSA"
      }
    },
    {
      "cell_type": "markdown",
      "source": [
        "Model Ridge digunakan sebagai baseline dan memiliki rata-rata RMSE sebesar **72.7172**. Hasil ini terbilang tinggi, yang menunjukkan bahwa model kurang mampu menangkap pola data secara kompleks. Ini mengindikasikan bahwa model mengalami underfitting, yaitu model terlalu sederhana untuk data yang bersifat kompleks dan variatif."
      ],
      "metadata": {
        "id": "astmkVscgg3w"
      }
    },
    {
      "cell_type": "markdown",
      "source": [
        "### 2.2 Analisis pada LightGBM Regressor"
      ],
      "metadata": {
        "id": "4dgAuE2-giCi"
      }
    },
    {
      "cell_type": "markdown",
      "source": [
        "Setelah dilakukan tuning hyperparameter menggunakan RandomizedSearchCV dan validasi dengan TimeSeriesSplit, model LightGBM menghasilkan RMSE sebesar **35.5210**, yang jauh lebih rendah dibandingkan baseline. Model ini berhasil menangkap pola data dengan lebih baik tanpa kehilangan generalisasi."
      ],
      "metadata": {
        "id": "SkeIwupsgjdW"
      }
    },
    {
      "cell_type": "markdown",
      "source": [
        "### 2.3 Validasi Visualisasi"
      ],
      "metadata": {
        "id": "kOTUATnggl2q"
      }
    },
    {
      "cell_type": "markdown",
      "source": [
        "Pada scatterplot \"Prediksi vs Aktual\", titik-titik prediksi mengikuti garis diagonal yang merepresentasikan prediksi ideal. Penyebaran residual tidak terlalu menyebar secara ekstrem, menandakan bahwa model tidak mengalami overfitting."
      ],
      "metadata": {
        "id": "jPBLclZPgn19"
      }
    },
    {
      "cell_type": "markdown",
      "source": [
        "<img src=\"https://raw.githubusercontent.com/badzlan/compfest-dsa-quals/refs/heads/main/images/residual-aktual-prediksi-fold-terakhir.png\" alt=\"drawing\" />"
      ],
      "metadata": {
        "id": "4V_jl6t8gyOD"
      }
    },
    {
      "cell_type": "markdown",
      "source": [
        "### 2.4 Mitigasi Overfitting"
      ],
      "metadata": {
        "id": "pg8vJOWzg607"
      }
    },
    {
      "cell_type": "markdown",
      "source": [
        "- **Cross-validation berbasis waktu (TimeSeriesSplit)** digunakan untuk menjaga validitas temporal.\n",
        "\n",
        "- **Regularisasi L2 (reg_alpha dan reg_lambda)** disetel selama tuning untuk menghindari overfitting.\n",
        "\n",
        "- **Subsample dan colsample_bytree** dikombinasikan untuk memastikan model tidak belajar terlalu spesifik dari subset data tertentu."
      ],
      "metadata": {
        "id": "RTq0DihXg-xS"
      }
    },
    {
      "cell_type": "markdown",
      "source": [
        "Berdasarkan hasil metrik dan visualisasi, dapat disimpulkan bahwa model tidak mengalami overfitting maupun underfitting secara signifikan. RMSE cukup rendah, dan pola prediksi sesuai tren aktual."
      ],
      "metadata": {
        "id": "7MOgnDAKhBst"
      }
    },
    {
      "cell_type": "markdown",
      "source": [
        "## Soal nomor 3"
      ],
      "metadata": {
        "id": "_-5mXmrgjIjx"
      }
    },
    {
      "cell_type": "markdown",
      "source": [
        "3. Apakah ada pola temporal berulang yang terlihat dari konsumsi listrik? Kira-kira dataset ini berasal dari negara/wilayah dengan iklim seperti apa? Jelaskan reasoning Anda berdasarkan pola musiman yang terlihat!"
      ],
      "metadata": {
        "id": "YDCny8J3jIjy"
      }
    },
    {
      "cell_type": "markdown",
      "source": [
        "### 3.1 Pola Temporal yang Teridentifikasi"
      ],
      "metadata": {
        "id": "i7kzZcAkhzPX"
      }
    },
    {
      "cell_type": "markdown",
      "source": [
        "Dari visualisasi time series konsumsi listrik harian, terlihat adanya fluktuasi musiman yang berulang tiap tahunnya. Konsumsi listrik cenderung meningkat pada periode tertentu dan menurun pada periode lainnya secara siklikal."
      ],
      "metadata": {
        "id": "02EwX6fBh1uS"
      }
    },
    {
      "cell_type": "markdown",
      "source": [
        "<img src=\"https://raw.githubusercontent.com/badzlan/compfest-dsa-quals/refs/heads/main/images/time-series-konsumsi-listrik-total.png\" alt=\"drawing\"/>"
      ],
      "metadata": {
        "id": "fLJwoob-iWNC"
      }
    },
    {
      "cell_type": "markdown",
      "source": [
        "<img src=\"https://raw.githubusercontent.com/badzlan/compfest-dsa-quals/refs/heads/main/images/average-monthly-electric-consumption.png\" alt=\"drawing\"/>"
      ],
      "metadata": {
        "id": "P3-YsF2fwWC-"
      }
    },
    {
      "cell_type": "markdown",
      "source": [
        "### 3.2 Analisis Musiman dan Pola Harian"
      ],
      "metadata": {
        "id": "zt41B5jcigVC"
      }
    },
    {
      "cell_type": "markdown",
      "source": [
        "Grafik *“Average Monthly Electricity Consumption by Year”* menunjukkan:\n",
        "\n",
        "- Terdapat kenaikan konsumsi pada musim dingin dan musim panas, yang kemungkinan besar berkaitan dengan penggunaan alat pengatur suhu seperti AC atau pemanas.\n",
        "\n",
        "- Terdapat penurunan pada bulan-bulan transisi (spring dan autumn), saat suhu cenderung nyaman.\n",
        "\n",
        "- Konsumsi juga menunjukkan variasi antar hari kerja dan akhir pekan, menunjukkan sensitivitas terhadap aktivitas ekonomi."
      ],
      "metadata": {
        "id": "J3QsnoJ_iiVd"
      }
    },
    {
      "cell_type": "markdown",
      "source": [
        "### 3.3 Estimasi Lokasi dan Iklim"
      ],
      "metadata": {
        "id": "y_aYzdMyinhh"
      }
    },
    {
      "cell_type": "markdown",
      "source": [
        "Berdasarkan fluktuasi musiman serta pengaruh kuat dari variabel seperti suhu maksimum/minimum, durasi sinar matahari, dan evaporasi, besar kemungkinan dataset ini berasal dari negara **beriklim sedang (temperate)** seperti negara-negara Eropa (misalnya Jerman atau Perancis), Amerika Serikat bagian utara, atau Korea Selatan. Negara-negara ini memiliki empat musim dan kebutuhan energi yang sangat dipengaruhi kondisi cuaca."
      ],
      "metadata": {
        "id": "tt76-vfLlDlA"
      }
    },
    {
      "cell_type": "markdown",
      "source": [
        "### 3.4 Insight"
      ],
      "metadata": {
        "id": "t4F3kFU4lFFi"
      }
    },
    {
      "cell_type": "markdown",
      "source": [
        "Pola musiman dan harian ini penting dalam pemodelan karena mempengaruhi cara kita melakukan feature engineering. Variabel seperti bulan, kuartal, dan hari dalam seminggu menjadi penting untuk memasukkan konteks temporal ke dalam model."
      ],
      "metadata": {
        "id": "9RmuueOTlG-J"
      }
    },
    {
      "cell_type": "markdown",
      "source": [
        "## Soal nomor 4"
      ],
      "metadata": {
        "id": "B8UJr64PjJKN"
      }
    },
    {
      "cell_type": "markdown",
      "source": [
        "4. Apakah ada korelasi konsumsi listrik antar cluster/region? Berapa rasio perbandingan rata-rata konsumsi listrik antar cluster, dan bagaimana ini mempengaruhi pendekatan pemodelan Anda?"
      ],
      "metadata": {
        "id": "CCGy729BjJKO"
      }
    },
    {
      "cell_type": "markdown",
      "source": [
        "### 4.1 Korelasi antar Cluster"
      ],
      "metadata": {
        "id": "Ybb1Ql9DlLyN"
      }
    },
    {
      "cell_type": "markdown",
      "source": [
        "Dari boxplot dan heatmap korelasi, tampak bahwa masing-masing cluster memiliki nilai konsumsi yang relatif berbeda. Namun, ketika diamati secara waktu, tren antar cluster sering menunjukkan pola paralel, terutama pada waktu puncak seperti musim dingin atau panas. Ini menunjukkan adanya korelasi waktu lintas wilayah, kemungkinan akibat pengaruh iklim global atau tren perilaku konsumsi yang serupa secara geografis."
      ],
      "metadata": {
        "id": "oZg5pHPJlPhK"
      }
    },
    {
      "cell_type": "markdown",
      "source": [
        "<img src=\"https://raw.githubusercontent.com/badzlan/compfest-dsa-quals/refs/heads/main/images/konsumsi-listrik-percluster.png\" alt=\"drawing\" />"
      ],
      "metadata": {
        "id": "DqgbBszzltYI"
      }
    },
    {
      "cell_type": "markdown",
      "source": [
        "<img src=\"https://raw.githubusercontent.com/badzlan/compfest-dsa-quals/refs/heads/main/images/korelasi-fitur-numerik.png\" alt=\"drawing\"/>"
      ],
      "metadata": {
        "id": "U0xCCogHlujE"
      }
    },
    {
      "cell_type": "markdown",
      "source": [
        "### 4.2 Rasio Rata-Rata Konsumsi antarcluster"
      ],
      "metadata": {
        "id": "q4gaalH6lyMd"
      }
    },
    {
      "cell_type": "markdown",
      "source": [
        "Dari hasil perhitungan rata-rata konsumsi listrik antarcluster:\n",
        "\n",
        "* Rata-rata cluster 1: 340.73 GWh\n",
        "\n",
        "* Rata-rata cluster 2: 503.37 GWh\n",
        "\n",
        "* Rata-rata cluster 3: 706.76 GWh\n",
        "\n",
        "* Rata-rata cluster 4: 1018.39 GWh"
      ],
      "metadata": {
        "id": "Wh-ZQTEz4jU7"
      }
    },
    {
      "cell_type": "markdown",
      "source": [
        "Rasio dihitung dengan membandingkan antara rata-rata cluster terkecil dengan rata-rata cluster lainnya, dan didapatkan hasil seperti berikut:\n",
        "\n",
        "* Cluster 1: 340.73 / 340.73 ≈ 1\n",
        "\n",
        "* Cluster 2: 503.37 / 340.73 ≈ 1.48\n",
        "\n",
        "* Cluster 3: 706.76 / 340.73 ≈ 2.07\n",
        "\n",
        "* Cluster 4: 1018.39 / 340.73 ≈ 2.99"
      ],
      "metadata": {
        "id": "n1NJMGa65Ubo"
      }
    },
    {
      "cell_type": "markdown",
      "source": [
        "Ini menunjukkan bahwa cluster 4 memiliki konsumsi listrik rata-rata hampir 3 kali lipat dari cluster 1, cluster 3 sekitar 2 kali lipat, dan cluster 2 sekitar 1.5 kali lipat. Ini langsung memberikan gambaran perbandingan skala perbandingan antara rata-rata konsumsi listrik pada setiap cluster."
      ],
      "metadata": {
        "id": "4W0psRTc7i9K"
      }
    },
    {
      "cell_type": "markdown",
      "source": [
        "### 4.3 Implikasi terhadap Pemodelan"
      ],
      "metadata": {
        "id": "fGSONTHZmcZy"
      }
    },
    {
      "cell_type": "markdown",
      "source": [
        "- Kami menerapkan _one-hot encoding_ terhadap ```cluster_id``` untuk memberikan sinyal eksplisit kepada model bahwa tiap cluster memiliki karakteristik unik.\n",
        "\n",
        "- Kami juga memastikan distribusi data pelatihan tetap mencerminkan distribusi tiap cluster, agar model tidak bias terhadap salah satu wilayah.\n",
        "\n",
        "- Fitur tambahan seperti ```cluster_cluster_``` memungkinkan model mengenali pola masing-masing wilayah tanpa melakukan training model secara terpisah."
      ],
      "metadata": {
        "id": "AhHclcW8mgDi"
      }
    },
    {
      "cell_type": "markdown",
      "source": [
        "## Soal nomor 5"
      ],
      "metadata": {
        "id": "BiWS1cxijJWm"
      }
    },
    {
      "cell_type": "markdown",
      "source": [
        "5. Jawablah pertanyaan statistik berikut :\n",
        " + Berapa konsumsi listrik rata-rata dari tiap cluster saat suhu minimum di bawah persentil 25 dan durasi sinar matahari di bawah rata-rata? Apa Insight yang bisa didapat dari hal ini?\n",
        " + Apakah ada kombinasi cluster dan periode waktu tertentu yang memiliki konsumsi listrik yang dapat dianggap outlier? Jelaskan justifikasi Anda.\n"
      ],
      "metadata": {
        "id": "tPsahUCpjJWn"
      }
    },
    {
      "cell_type": "markdown",
      "source": [
        "### a. Konsumsi Listrik Rata-rata dari Tiap Cluster Saat Suhu Minimum di Bawah Persentil 25 dan Durasi Sinar Matahari di Bawah Rata-rata"
      ],
      "metadata": {
        "id": "Q-xnwU4KoUW3"
      }
    },
    {
      "cell_type": "markdown",
      "source": [
        "Langkah yang diambil:\n",
        "\n",
        "- Hitung persentil ke-25 dari ```temperature_2m_min```\n",
        "\n",
        "- Hitung rata-rata ```sunshine_duration```\n",
        "\n",
        "- Filter data yang memenuhi kedua kriteria tersebut\n",
        "\n",
        "- Kelompokkan berdasarkan ```cluster_id``` dan hitung konsumsi rata-rata"
      ],
      "metadata": {
        "id": "QW8KHY2voZ9V"
      }
    },
    {
      "cell_type": "markdown",
      "source": [
        "Hasilnya adalah sebagai berikut:\n",
        "\n",
        "- Cluster 1: 446.72 GWh\n",
        "\n",
        "- Cluster 2: 656.70 GWh\n",
        "\n",
        "- Cluster 3: 887.14 GWh\n",
        "\n",
        "- Cluster 4: 1290.83 GWh"
      ],
      "metadata": {
        "id": "u1BIQk8AokRG"
      }
    },
    {
      "cell_type": "markdown",
      "source": [
        "**Insight:** Berdasarkan analisis konsumsi listrik saat suhu minimum berada di bawah persentil ke-25 dan durasi sinar matahari di bawah rata-rata, terlihat bahwa konsumsi listrik cenderung meningkat.\n",
        "\n",
        "Hal ini telah divalidasi dengan membandingkan konsumsi listrik pada kondisi sebaliknya (suhu minimum di atas persentil ke-75 dan durasi sinar matahari di atas rata-rata), di mana konsumsi rata-rata tiap cluster tercatat lebih rendah. Ini memperkuat dugaan bahwa kondisi dingin dan gelap menyebabkan peningkatan kebutuhan energi, seperti pemanas ruangan dan pencahayaan tambahan."
      ],
      "metadata": {
        "id": "CTlOzTemGpQn"
      }
    },
    {
      "cell_type": "markdown",
      "source": [
        "### b. Outlier Konsumsi Berdasarkan Kombinasi Cluster dan Periode Waktu\n",
        "\n",
        "---\n",
        "\n"
      ],
      "metadata": {
        "id": "B7Ir7hbRos1h"
      }
    },
    {
      "cell_type": "markdown",
      "source": [
        "Melalui visualisasi boxplot dan time series, kami mengidentifikasi beberapa titik yang tergolong outlier :"
      ],
      "metadata": {
        "id": "NaFib0IEo8iL"
      }
    },
    {
      "cell_type": "markdown",
      "source": [
        "<img src=\"https://raw.githubusercontent.com/badzlan/compfest-dsa-quals/refs/heads/main/images/time-series-konsumsi-listrik-total.png\" alt=\"drawing\"/>"
      ],
      "metadata": {
        "id": "o44u85-rpAQo"
      }
    },
    {
      "cell_type": "markdown",
      "source": [
        "<img src=\"https://raw.githubusercontent.com/badzlan/compfest-dsa-quals/refs/heads/main/images/konsumsi-listrik-percluster.png\" alt=\"drawing\"/>"
      ],
      "metadata": {
        "id": "i7i8FdRNh0CR"
      }
    },
    {
      "cell_type": "markdown",
      "source": [
        "- Cluster 4 menunjukkan konsumsi ekstrim >1200 GWh pada beberapa hari musim panas, kemungkinan akibat penggunaan pendingin udara secara masif.\n",
        "\n",
        "- Cluster 1 memiliki lonjakan anomali di awal tahun yang bisa jadi akibat gangguan sistem atau event khusus."
      ],
      "metadata": {
        "id": "hFqoGwYzpGqG"
      }
    },
    {
      "cell_type": "markdown",
      "source": [
        "**Justifikasi :**\n",
        "Outlier ini diverifikasi dari nilai z-score dan berada jauh di luar IQR pada boxplot. Perlu dilakukan penyesuaian dalam preprocessing seperti capping atau log-transform untuk mencegah model overfitting pada nilai ekstrem tersebut."
      ],
      "metadata": {
        "id": "tsnBahevpJ5V"
      }
    },
    {
      "cell_type": "markdown",
      "source": [
        "## Soal nomor 6"
      ],
      "metadata": {
        "id": "rnNjcZQjjJbX"
      }
    },
    {
      "cell_type": "markdown",
      "source": [],
      "metadata": {
        "id": "ZYRyD0nwh_ww"
      }
    },
    {
      "cell_type": "markdown",
      "source": [
        "6. Apakah ada pasangan variabel cuaca yang berkorelasi tinggi? Apakah ada efek multicollinearity yang perlu diatasi dalam modeling?"
      ],
      "metadata": {
        "id": "sCRCcblBjJbY"
      }
    },
    {
      "cell_type": "markdown",
      "source": [
        "### 6.1 Heatmap Matriks Korelasi"
      ],
      "metadata": {
        "id": "609K6_Yb56yO"
      }
    },
    {
      "cell_type": "markdown",
      "source": [
        "<img src=\"https://raw.githubusercontent.com/badzlan/compfest-dsa-quals/refs/heads/main/images/heatmap-korelasi-variabel-cuaca.png\" alt=\"drawing\"/>"
      ],
      "metadata": {
        "id": "Qew9px-kNJ-4"
      }
    },
    {
      "cell_type": "markdown",
      "source": [
        "### 6.2 Penjelasan Heatmap"
      ],
      "metadata": {
        "id": "is6yTegy6DgG"
      }
    },
    {
      "cell_type": "markdown",
      "source": [
        "Berdasarkan analisis matriks korelasi antar variabel cuaca yang ditunjukkan pada Gambar 1, ditemukan beberapa pasangan variabel dengan tingkat korelasi yang sangat tinggi (nilai korelasi > 0.95). Di antaranya adalah:\n",
        "\n",
        "* `temperature_2m_max` dengan `apparent_temperature_max` (0.99)\n",
        "\n",
        "* `temperature_2m_min` dengan `apparent_temperature_min` (0.99)\n",
        "\n",
        "* `wind_speed_10m_max` dengan `wind_gusts_10m_max` (0.97)\n",
        "\n",
        "* `shortwave_radiation_sum` dengan `et0_fao_evapotranspiration` (0.95).\n",
        "\n",
        "Korelasi tinggi seperti ini mengindikasikan adanya tumpang tindih informasi atau redundansi antar fitur, yang secara teoritis dapat menyebabkan permasalahan multikolinearitas dalam model prediktif."
      ],
      "metadata": {
        "id": "XQKkF8oqrOYp"
      }
    },
    {
      "cell_type": "markdown",
      "source": [
        "### 6.3 Penjelasan Multikolinearitas"
      ],
      "metadata": {
        "id": "hC_pYbrN6GnR"
      }
    },
    {
      "cell_type": "markdown",
      "source": [
        "Namun, dalam konteks penggunaan LightGBM yang merupakan algoritma berbasis *tree-based boosting* multikolinearitas tidak menjadi permasalahan struktural seperti pada model linier (misalnya regresi linear). LightGBM memiliki mekanisme internal yang secara otomatis dapat memilih fitur-fitur paling informatif pada setiap percabangan *tree*. Oleh karena itu, meskipun dua fitur sangat berkorelasi, model akan tetap memilih salah satu yang paling menguntungkan secara split gain. Meski demikian, korelasi tinggi tetap dapat berdampak negatif secara tidak langsung, terutama pada aspek interpretabilitas model dan risiko overfitting. Fitur-fitur yang sangat mirip cenderung membagi kontribusi importance, sehingga dapat menyulitkan dalam penarikan insight atau pengambilan keputusan berbasis fitur."
      ],
      "metadata": {
        "id": "Uy5OAJl0sy6W"
      }
    },
    {
      "cell_type": "markdown",
      "source": [
        "Untuk mengantisipasi hal ini, disarankan melakukan seleksi fitur secara manual dengan memilih salah satu fitur dari pasangan yang berkorelasi tinggi berdasarkan relevansi domain atau informasi unik yang dibawanya. Alternatif lainnya adalah melakukan eksperimen ablation, yaitu melatih model dengan dan tanpa fitur tertentu—guna mengevaluasi dampak masing-masing terhadap kinerja prediktif.\n",
        "\n",
        "Dengan demikian, meskipun LightGBM relatif robust terhadap korelasi tinggi antar fitur, penanganan korelasi tetap penting untuk memastikan generalisasi model yang optimal dan interpretasi hasil yang akurat."
      ],
      "metadata": {
        "id": "DYSBenw6tmC-"
      }
    },
    {
      "cell_type": "markdown",
      "source": [
        "## Soal nomor 7"
      ],
      "metadata": {
        "id": "Y-TQb3_yjJfs"
      }
    },
    {
      "cell_type": "markdown",
      "source": [
        "7. Fitur baru apa saja yang Anda buat melalui proses feature engineering? Jelaskan bagaimana fitur tersebut meningkatkan pemahaman model terhadap pola konsumsi listrik!"
      ],
      "metadata": {
        "id": "iKGrSFJqjJft"
      }
    },
    {
      "cell_type": "markdown",
      "source": [
        "### 7.1 Fitur-Fitur Hasil Feature Engineering"
      ],
      "metadata": {
        "id": "SZmsGXgx1gNZ"
      }
    },
    {
      "cell_type": "markdown",
      "source": [
        "#### 7.1.1 Temporal Feature"
      ],
      "metadata": {
        "id": "Pue79W141rSL"
      }
    },
    {
      "cell_type": "markdown",
      "source": [
        "*Temporal feature* adalah fitur hasil ekstraksi dari kolom `date` yang sudah diubah menjadi tipe data `datetime`. Fitur hasil ekstraksi tersebut meliputi:\n",
        "\n",
        "* `year`\n",
        "* `month`\n",
        "* `date`\n",
        "* `dayofweek`\n",
        "* `weekofyear`\n",
        "* `quarter`"
      ],
      "metadata": {
        "id": "lZNi5cA32UOf"
      }
    },
    {
      "cell_type": "markdown",
      "source": [
        "#### 7.1.2 Interaction Feature"
      ],
      "metadata": {
        "id": "CMQuBXCu2EBH"
      }
    },
    {
      "cell_type": "markdown",
      "source": [
        "Interaction Feature adalah fitur yang diambil berdasarkan hasil dari interaksi antarfitur yang sudah ada:\n",
        "\n",
        "* `temp_range`: selisih `temperature_2m_max` dan `temperature_2m_min`\n",
        "* `apparent_temp_range`: selisih `apparent_temp_max` dan `apparent_temp_min`\n",
        "* `wind_chill_effect`: selisih `temperature_2m_max` dan `apparent_temp_max`"
      ],
      "metadata": {
        "id": "LmIazkXg25EX"
      }
    },
    {
      "cell_type": "markdown",
      "source": [
        "#### 7.1.3 Encoded Feature"
      ],
      "metadata": {
        "id": "a7IqDIoE2L1_"
      }
    },
    {
      "cell_type": "markdown",
      "source": [
        "Encoded Feature merupakan output fitur dari proses One-Hot Encoding yang dilakukan pada kolom `cluster_id`:\n",
        "\n",
        "* `cluster_2`\n",
        "* `cluster_3`\n",
        "* `cluster_4`"
      ],
      "metadata": {
        "id": "oj-KMaiE30oa"
      }
    },
    {
      "cell_type": "markdown",
      "source": [
        "### 7.2 Dampak Feature Engineering Terhadap Pemahaman Model"
      ],
      "metadata": {
        "id": "5ZCYYds74JzM"
      }
    },
    {
      "cell_type": "markdown",
      "source": [
        "#### 7.2.1 Feature Importance dan Korelasi Fitur Terhadap Label"
      ],
      "metadata": {
        "id": "JFQvfhB8CE4C"
      }
    },
    {
      "cell_type": "markdown",
      "source": [
        "<img src=\"https://raw.githubusercontent.com/badzlan/compfest-dsa-quals/refs/heads/main/images/korelasi-fitur-tambahan-electricity_comsumption.png\" alt=\"drawing\"/>"
      ],
      "metadata": {
        "id": "BcqoZb2MCOg3"
      }
    },
    {
      "cell_type": "markdown",
      "source": [
        "<img src=\"https://raw.githubusercontent.com/badzlan/compfest-dsa-quals/refs/heads/main/images/feature-importance-gain.png\" alt=\"drawing\"/>"
      ],
      "metadata": {
        "id": "F9ECACLADnRa"
      }
    },
    {
      "cell_type": "markdown",
      "source": [
        "#### 7.2.2 Penjelasan Temporal Feature"
      ],
      "metadata": {
        "id": "97NUHUPr4Sns"
      }
    },
    {
      "cell_type": "markdown",
      "source": [
        "Pada aspek temporal, diekstrak atribut `year`, `month`, `day`, `dayofweek`, `weekofyear`, dan `quarter` dari fitur `date`. Fitur-fitur ini bertujuan untuk membantu model menangkap pola musiman dan siklus mingguan yang secara empiris terbukti memengaruhi konsumsi listrik. Hal ini diperkuat oleh analisis tren historis, di mana konsumsi listrik cenderung meningkat signifikan selama bulan Oktober hingga Desember, lalu menurun setelahnya hingga mencapai titik rendah sekitar bulan April. Meskipun beberapa fitur waktu seperti day, month, dan quarter menunjukkan korelasi rendah terhadap target secara linier (gambar 1), hasil feature importance dari LightGBM (gambar 2) mengindikasikan bahwa dayofweek, weekofyear, dan month tetap memberikan kontribusi yang relevan terhadap performa model, terutama dalam hal penyesuaian lokal terhadap tren musiman yang bersifat non-linier."
      ],
      "metadata": {
        "id": "S1mU1hq8AQze"
      }
    },
    {
      "cell_type": "markdown",
      "source": [
        "#### 7.2.3 Penjelasan Interaction Feature"
      ],
      "metadata": {
        "id": "guoLrovPARXx"
      }
    },
    {
      "cell_type": "markdown",
      "source": [
        "Sementara itu, dari sisi fitur cuaca, dilakukan pembuatan tiga fitur turunan hasil interaksi: `temp_range`, `apparent_temp_range`, `wind_chill_effect`. Fitur `wind_chill_effect` secara khusus menarik karena menunjukkan korelasi positif yang cukup kuat terhadap konsumsi listrik (sekitar +0.15) dan menduduki posisi cukup tinggi dalam hal *feature importance*. Hal ini menunjukkan bahwa persepsi suhu *(wind chill)* kemungkinan besar memengaruhi keputusan masyarakat dalam menggunakan alat pendingin atau pemanas, yang secara langsung berdampak pada beban listrik harian. Di sisi lain, meskipun `temp_range` dan `apparent_temp_range` memiliki korelasi rendah, tetap disertakan karena berpotensi membantu model dalam membedakan kondisi suhu yang ekstrem atau fluktuatif."
      ],
      "metadata": {
        "id": "3AkmguO5C2aN"
      }
    },
    {
      "cell_type": "markdown",
      "source": [
        "#### 7.2.4 Penjelasan Encoded Feature"
      ],
      "metadata": {
        "id": "yTs62_uVDUVZ"
      }
    },
    {
      "cell_type": "markdown",
      "source": [
        "Fitur tambahan lain yang juga diperhitungkan dalam model adalah hasil one-hot encoding terhadap `cluster_id`, yang menunjukkan segmentasi geografis atau administratif dalam data. Dari hasil korelasi dan feature importance, tampak bahwa beberapa cluster, terutama `cluster_4`, memiliki pengaruh signifikan terhadap konsumsi listrik. Hal ini dapat diinterpretasikan sebagai adanya perbedaan perilaku konsumsi listrik antar wilayah yang ditangkap secara efektif oleh model."
      ],
      "metadata": {
        "id": "a1IkWJ-1Dff4"
      }
    },
    {
      "cell_type": "markdown",
      "source": [
        "## Soal nomor 8"
      ],
      "metadata": {
        "id": "JeKMVoK6jJjt"
      }
    },
    {
      "cell_type": "markdown",
      "source": [
        "8. Jelaskan model yang Anda gunakan dalam memprediksi konsumsi listrik! Mengapa Anda memilih model tersebut dibanding alternatif lain?"
      ],
      "metadata": {
        "id": "xj6D8haijJjt"
      }
    },
    {
      "cell_type": "markdown",
      "source": [
        "### 8.1 Model yang Digunakan"
      ],
      "metadata": {
        "id": "rgnuWhDKFoCb"
      }
    },
    {
      "cell_type": "markdown",
      "source": [
        "LightGBM adalah algoritma machine learning yang merupakan implementasi dari **Gradient Boosting Decision Trees (GBDT)**:\n",
        "\n",
        "* **Decision Trees:** LightGBM membangun banyak decision trees secara berurutan. Setiap tree belajar dari error atau residual (sisa kesalahan) yang dibuat oleh tree sebelumnya.\n",
        "* **Gradient Boosting:** Ini adalah teknik di mana model secara iteratif memperbaiki prediksinya dengan fokus pada kesalahan-kesalahan yang paling besar. Setiap tree \"baru\" yang ditambahkan ke model mencoba meminimalkan loss function (misalnya, RMSE) dengan mengikuti gradien negatifnya.\n",
        "* **Light**: Seperti namanya, *Light* itu mengartikan LightGBM didesain untuk menjadi sangat cepat dan efisien dibandingkan implementasi GBDT lainnya (seperti XGBoost atau CatBoost), terutama pada dataset besar."
      ],
      "metadata": {
        "id": "iPQNMxLd6hAg"
      }
    },
    {
      "cell_type": "markdown",
      "source": [
        "### 8.2 Tidak Memilih Model Lain"
      ],
      "metadata": {
        "id": "ROndmm6Q7g6U"
      }
    },
    {
      "cell_type": "markdown",
      "source": [
        "**1. Performa Tinggi dan Akurasi:**\n",
        "\n",
        "  * LightGBM sebagai salah satu algoritma *state-of-the-art* dalam konteks data tabular (seperti data konsumsi listrik). LightGBM mampu memberikan akurasi prediksi yang sangat kompetitif, bahkan dapat mengungguli algoritma lain seperti Random Forest atau Support Vector Machines.\n",
        "\n",
        "  * **Relevansi dengan Kasus:** Prediksi konsumsi listrik itu masalah regresi yang kompleks dengan banyak interaksi antar fitur (misalnya, suhu dan waktu). LightGBM sangat baik dalam menangkap interaksi non-linear ini.\n",
        "\n",
        "**2. Kecepatan dan Efisiensi:**\n",
        "\n",
        "  * **LightGBM jauh lebih cepat** dalam training dari banyak algoritma boosting lain (termasuk XGBoost dalam banyak kasus) dan juga sangat efisien dalam penggunaan memori.\n",
        "\n",
        "  * **Relevansi dengan Kasus:** Dalam kasus dengan dataset besar dan deadline cepat, kecepatan training menjadi hal krusial untuk iterasi model dan hyperparameter tuning yang efektif.\n",
        "\n",
        "**3. Penanganan Berbagai Tipe Data:**\n",
        "\n",
        "  * LightGBM dapat menangani fitur numerik dan kategorikal (setelah di-encode seperti One-Hot Encoding\n",
        "\n",
        "  * **Relevansi dengan Kasus:** Dataset punya banyak fitur numerik (suhu, durasi, dll.) dan juga kategorikal (cluster_id, dan fitur tanggal yang kamu buat seperti month, dayofweek).\n",
        "\n",
        "**4. Ketahanan Terhadap Outlier dan Missing Values:**\n",
        "\n",
        "  * Sebagai tree-based model, LightGBM cenderung lebih robust terhadap outlier dibandingkan model linear. LightGBM juga bisa menangani missing values secara internal."
      ],
      "metadata": {
        "id": "zZ0Hpx9E7mj8"
      }
    },
    {
      "cell_type": "markdown",
      "source": [
        "## Soal nomor 9"
      ],
      "metadata": {
        "id": "WwW_0Sn2jJni"
      }
    },
    {
      "cell_type": "markdown",
      "source": [
        "9. Menurut Anda, apakah metrik penilaian RMSE tepat untuk kasus ini? Jika tidak, metrik apa yang lebih tepat? Elaborasikan jawaban Anda!"
      ],
      "metadata": {
        "id": "atWtFJ9pjJni"
      }
    },
    {
      "cell_type": "markdown",
      "source": [
        "### 9.1 RMSE (Root Mean Squared Error)"
      ],
      "metadata": {
        "id": "n9hNW7xWH9e_"
      }
    },
    {
      "cell_type": "markdown",
      "source": [
        "RMSE dihitung sebagai akar kuadrat dari rata-rata kuadrat perbedaan antara nilai prediksi dan nilai aktual."
      ],
      "metadata": {
        "id": "rhP0c1cLJAIY"
      }
    },
    {
      "cell_type": "markdown",
      "source": [
        "$$RMSE = \\sqrt{\\frac{1}{N} \\sum_{i=1}^{N} (y_i - \\hat{y}_i)^2}$$"
      ],
      "metadata": {
        "id": "LD9TVqHTIhSI"
      }
    },
    {
      "cell_type": "markdown",
      "source": [
        "#### 9.1.1 Kelebihan RMSE"
      ],
      "metadata": {
        "id": "PC6WSoBVUtLg"
      }
    },
    {
      "cell_type": "markdown",
      "source": [
        "1.   **Interpretasi Langsung dalam Satuan Asli:** RMSE dinyatakan dalam satuan yang sama dengan variabel target (GWh). Ini memudahkan interpretasi langsung, misalnya, RMSE 35 berarti rata-rata deviasi prediksi adalah 35 GWh.\n",
        "\n",
        "2.   **Penalti Lebih Besar untuk Kesalahan Besar:** Karena perbedaan antara prediksi dan aktual dikuadratkan, RMSE secara intrinsik memberikan bobot yang lebih besar pada kesalahan prediksi yang besar. Dalam konteks manajemen grid dan perencanaan kapasitas, kesalahan prediksi yang besar (misalnya, *under-prediction* signifikan yang dapat menyebabkan blackout, atau *over-prediction* yang menjadi penyebab pemborosan sumber daya dan biaya operasional tinggi) memiliki konsekuensi yang jauh lebih serius daripada kesalahan kecil. Oleh karena itu, metrik yang secara agresif menghukum large errors sangat relevan.\n",
        "\n",
        "3. **Diferensiabilitas:** RMSE adalah metrik yang dapat diturunkan *(differentiable)*, yang membuatnya cocok sebagai fungsi loss untuk banyak algoritma machine learning berbasis gradien (seperti LightGBM yang digunakan pada kasus ini), memungkinkan optimasi yang efisien."
      ],
      "metadata": {
        "id": "KtB7MXjaUxEA"
      }
    },
    {
      "cell_type": "markdown",
      "source": [
        "#### 9.1.2 Kekurangan RMSE"
      ],
      "metadata": {
        "id": "x1Yvj74uYvon"
      }
    },
    {
      "cell_type": "markdown",
      "source": [
        "1. **Sensitivitas terhadap Outlier:** Karena sifat pengkuadratan, RMSE sangat sensitif terhadap outlier atau nilai-nilai ekstrem. Jika ada hari-hari dengan konsumsi listrik yang sangat tidak biasa dan model gagal memprediksi hal tersebut dengan baik, satu atau beberapa kesalahan besar dapat secara signifikan meningkatkan nilai RMSE, bahkan ketika model bekerja sangat baik pada sebagian besar data lainnya.\n",
        "2. **Kurangnya Interpretasi Relatif:** RMSE tidak memberikan informasi tentang kesalahan relatif atau persentase. RMSE 35 GWh mungkin sangat baik untuk cluster dengan rata-rata konsumsi 1000 GWh, tetapi mungkin sangat buruk untuk cluster lain dengan rata-rata konsumsi hanya 100 GWh. Ini mempersulit perbandingan performa model antar cluster yang memiliki skala konsumsi yang berbeda secara inheren.\n",
        "3. **Tidak Membedakan Arah Kesalahan:** RMSE hanya mengukur magnitudo kesalahan, tidak membedakan apakah model melakukan *over-prediction* atau *under-prediction*. Dalam manajemen energi, *under-prediction* bisa lebih berbahaya (risiko pemadaman) daripada *over-prediction* (biaya tambahan/pemborosan)."
      ],
      "metadata": {
        "id": "-nzv8dP3Yy0u"
      }
    },
    {
      "cell_type": "markdown",
      "source": [
        "### 9.2 Alternatif: MAE (Mean Absolute Error)"
      ],
      "metadata": {
        "id": "DhrvOC1RdCP9"
      }
    },
    {
      "cell_type": "markdown",
      "source": [
        "MAE adalah rata-rata dari nilai absolut perbedaan antara prediksi dan nilai aktual."
      ],
      "metadata": {
        "id": "5nto28Secl3d"
      }
    },
    {
      "cell_type": "markdown",
      "source": [
        "$$MAE = \\frac{1}{N} \\sum_{i=1}^{N} |y_i - \\hat{y}_i|$$"
      ],
      "metadata": {
        "id": "J5WJADSkbyk1"
      }
    },
    {
      "cell_type": "markdown",
      "source": [
        "#### 9.2.1 Kelebihan"
      ],
      "metadata": {
        "id": "S7e-0kIFc7Vq"
      }
    },
    {
      "cell_type": "markdown",
      "source": [
        "1. **Robust terhadap Outlier:** MAE tidak mengkuadratkan kesalahan, sehingga kurang sensitif terhadap outlier dibandingkan RMSE. Ini memberikan gambaran yang lebih stabil tentang *rata-rata kesalahan absolut* yang kurang terpengaruh oleh beberapa deviasi ekstrem.\n",
        "2. **Lebih Mudah Diinterpretasi:** MAE 30 GWh berarti rata-rata, model salah sekitar 30 GWh. Ini bisa lebih mudah dipahami oleh non-ahli."
      ],
      "metadata": {
        "id": "JcMRB-3uc4bx"
      }
    },
    {
      "cell_type": "markdown",
      "source": [
        "#### 9.2.2 Kekurangan"
      ],
      "metadata": {
        "id": "kuld-VqDdSQr"
      }
    },
    {
      "cell_type": "markdown",
      "source": [
        "Tidak menghukum kesalahan besar sekuat RMSE, dan kurang cocok sebagai fungsi loss untuk beberapa metode optimasi karena tidak dapat diturunkan di titik nol."
      ],
      "metadata": {
        "id": "KyKng5iXdUr_"
      }
    },
    {
      "cell_type": "markdown",
      "source": [
        "## Soal nomor 10"
      ],
      "metadata": {
        "id": "O4rGY_kYi2tY"
      }
    },
    {
      "cell_type": "markdown",
      "source": [
        "10. Jika Anda boleh mengambil data eksternal, data tentang apa yang akan Anda ambil untuk meningkatkan akurasi prediksi konsumsi listrik? Jelaskan alasan pemilihannya dan bagaimana data itu dapat diintegrasikan.    \n"
      ],
      "metadata": {
        "id": "BxIWp0szi6m8"
      }
    },
    {
      "cell_type": "markdown",
      "source": [
        "### 10.1 Data Ukuran Rumah dan Jumlah Penghuni"
      ],
      "metadata": {
        "id": "dkdW38TMiu8T"
      }
    },
    {
      "cell_type": "markdown",
      "source": [
        "**Jenis Data:**\n",
        "\n",
        "- Ukuran rumah (m²) rata-rata per wilayah (bisa dari data sensus).\n",
        "\n",
        "- Jumlah rata-rata penghuni per rumah (household size).\n",
        "\n",
        "**Mengapa Penting?**\n",
        "\n",
        "- Rumah lebih besar → cenderung pakai listrik lebih banyak (untuk AC, lampu, pemanas, dll).\n",
        "\n",
        "- Semakin banyak penghuni → pemakaian energi meningkat (misal: aktivitas malam, alat elektronik).\n",
        "\n",
        "**Cara Integrasi ke Model:**\n",
        "\n",
        "- Agregasi data ini berdasarkan ```cluster_id```.\n",
        "\n",
        "- Tambahkan kolom:\n",
        "\n",
        "  - ```avg_house_size```\n",
        "\n",
        "  - ```avg_household_size```\n",
        "\n",
        "- Jika datanya tetap per wilayah, ini bisa ditambahkan ke setiap baris data berdasarkan ```cluster_id```."
      ],
      "metadata": {
        "id": "z8c7aC86i6y4"
      }
    },
    {
      "cell_type": "markdown",
      "source": [
        "### 10.2 Data Harga Listrik (Tarif Energi)"
      ],
      "metadata": {
        "id": "M__gUaqbjVFh"
      }
    },
    {
      "cell_type": "markdown",
      "source": [
        "**Jenis Data:**\n",
        "\n",
        "- Tarif listrik per kWh untuk sektor rumah tangga dan industri (bisa rata-rata nasional atau per wilayah).\n",
        "\n",
        "**Mengapa Penting?**\n",
        "\n",
        "- Tarif listrik memengaruhi perilaku: saat mahal, konsumen cenderung hemat (penggunaan AC, pemanas, dll dikurangi).\n",
        "\n",
        "- Bisa menjelaskan perubahan tren jangka panjang.\n",
        "\n",
        "**Cara Integrasi ke Model:**\n",
        "\n",
        "- Jika tarif berubah per bulan → buat kolom ```electricity_price``` yang nilainya mengikuti tanggal (```date```).\n",
        "\n",
        "- Jika tetap → bisa langsung diisi sebagai konstanta per ```cluster_id```."
      ],
      "metadata": {
        "id": "ckWNh6aUjdFj"
      }
    },
    {
      "cell_type": "markdown",
      "source": [
        "### 10.3 Data Hari Libur & Kalender Nasional"
      ],
      "metadata": {
        "id": "bg8E729PjrfQ"
      }
    },
    {
      "cell_type": "markdown",
      "source": [
        "Jenis Data:\n",
        "\n",
        "- Daftar hari libur nasional, hari kejepit, cuti bersama (bisa didapat dari API atau file JSON/CSV).\n",
        "\n",
        "- Hari-hari keagamaan atau event nasional (misal Idul Fitri, Natal, Tahun Baru).\n",
        "\n",
        "Mengapa Penting?\n",
        "\n",
        "- Hari libur → aktivitas industri turun, konsumsi rumah tangga naik.\n",
        "\n",
        "- Pola konsumsi bisa berubah drastis (misalnya pemakaian siang meningkat saat orang di rumah).\n",
        "\n",
        "Cara Integrasi ke Model:\n",
        "\n",
        "- Buat fitur boolean:\n",
        "\n",
        "  - ```is_holiday```\n",
        "\n",
        "  - ```is_weekend```\n",
        "\n",
        "  - ```is_long_weekend```\n",
        "\n",
        "  - ```is_religious_event```\n",
        "\n",
        "- Buat juga fitur day_type:\n",
        "\n",
        "  - ```weekday```, ```weekend```, ```public_holiday```, ```religious_holiday```, dll (dengan One-Hot Encoding)."
      ],
      "metadata": {
        "id": "HUixLnB7jtnD"
      }
    },
    {
      "cell_type": "markdown",
      "source": [
        "### 10.4 Strategi Integrasi"
      ],
      "metadata": {
        "id": "0kDaCIBVjvkX"
      }
    },
    {
      "cell_type": "markdown",
      "source": [
        "1. Ambil data eksternal dalam bentuk CSV/JSON.\n",
        "\n",
        "2. Join ke dataset utama berdasarkan ```date``` (untuk harga & hari libur) atau ```cluster_id``` (untuk rumah & penghuni).\n",
        "\n",
        "3. Encode fitur kategorikal jika diperlukan.\n",
        "\n",
        "4. Validasi hasil: apakah error model (RMSE) menurun.\n"
      ],
      "metadata": {
        "id": "3lumLfUjjxGQ"
      }
    }
  ]
}